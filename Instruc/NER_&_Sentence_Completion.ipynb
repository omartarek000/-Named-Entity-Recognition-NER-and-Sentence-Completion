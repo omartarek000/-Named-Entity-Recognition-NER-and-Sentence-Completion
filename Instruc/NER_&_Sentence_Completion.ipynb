{
 "cells": [
  {
   "cell_type": "markdown",
   "metadata": {},
   "source": [
    "## Smart E-Mails Assistant\n",
    "### Features:\n",
    "1. Perform NER on emails (extracting persons, locations, times (temporal), and so on..)\n",
    "2. Fill the [MASK] missing words in the text\n",
    "\n",
    "### This system was designed using `Hugging Face`\n",
    "1. NER Model: https://huggingface.co/eventdata-utd/conflibert-named-entity-recognition\n",
    "2. Filling Model: https://huggingface.co/google-bert/bert-base-uncased\n"
   ]
  },
  {
   "cell_type": "markdown",
   "metadata": {},
   "source": [
    "### ***Libraries***"
   ]
  },
  {
   "cell_type": "code",
   "execution_count": 1,
   "metadata": {},
   "outputs": [],
   "source": [
    "from transformers import pipeline"
   ]
  },
  {
   "cell_type": "markdown",
   "metadata": {},
   "source": [
    "### ***Loading Models***"
   ]
  },
  {
   "cell_type": "code",
   "execution_count": 2,
   "metadata": {},
   "outputs": [
    {
     "name": "stderr",
     "output_type": "stream",
     "text": [
      "Hardware accelerator e.g. GPU is available in the environment, but no `device` argument is passed to the `Pipeline` object. Model will be on CPU.\n",
      "A parameter name that contains `beta` will be renamed internally to `bias`. Please use a different name to suppress this warning.\n",
      "A parameter name that contains `gamma` will be renamed internally to `weight`. Please use a different name to suppress this warning.\n",
      "A parameter name that contains `beta` will be renamed internally to `bias`. Please use a different name to suppress this warning.\n",
      "A parameter name that contains `gamma` will be renamed internally to `weight`. Please use a different name to suppress this warning.\n",
      "A parameter name that contains `beta` will be renamed internally to `bias`. Please use a different name to suppress this warning.\n",
      "A parameter name that contains `gamma` will be renamed internally to `weight`. Please use a different name to suppress this warning.\n",
      "A parameter name that contains `beta` will be renamed internally to `bias`. Please use a different name to suppress this warning.\n",
      "A parameter name that contains `gamma` will be renamed internally to `weight`. Please use a different name to suppress this warning.\n",
      "A parameter name that contains `beta` will be renamed internally to `bias`. Please use a different name to suppress this warning.\n",
      "A parameter name that contains `gamma` will be renamed internally to `weight`. Please use a different name to suppress this warning.\n",
      "A parameter name that contains `beta` will be renamed internally to `bias`. Please use a different name to suppress this warning.\n",
      "A parameter name that contains `gamma` will be renamed internally to `weight`. Please use a different name to suppress this warning.\n",
      "A parameter name that contains `beta` will be renamed internally to `bias`. Please use a different name to suppress this warning.\n",
      "A parameter name that contains `gamma` will be renamed internally to `weight`. Please use a different name to suppress this warning.\n",
      "A parameter name that contains `beta` will be renamed internally to `bias`. Please use a different name to suppress this warning.\n",
      "A parameter name that contains `gamma` will be renamed internally to `weight`. Please use a different name to suppress this warning.\n",
      "A parameter name that contains `beta` will be renamed internally to `bias`. Please use a different name to suppress this warning.\n",
      "A parameter name that contains `gamma` will be renamed internally to `weight`. Please use a different name to suppress this warning.\n",
      "A parameter name that contains `beta` will be renamed internally to `bias`. Please use a different name to suppress this warning.\n",
      "A parameter name that contains `gamma` will be renamed internally to `weight`. Please use a different name to suppress this warning.\n",
      "A parameter name that contains `beta` will be renamed internally to `bias`. Please use a different name to suppress this warning.\n",
      "A parameter name that contains `gamma` will be renamed internally to `weight`. Please use a different name to suppress this warning.\n",
      "A parameter name that contains `beta` will be renamed internally to `bias`. Please use a different name to suppress this warning.\n",
      "A parameter name that contains `gamma` will be renamed internally to `weight`. Please use a different name to suppress this warning.\n",
      "A parameter name that contains `beta` will be renamed internally to `bias`. Please use a different name to suppress this warning.\n",
      "A parameter name that contains `gamma` will be renamed internally to `weight`. Please use a different name to suppress this warning.\n",
      "A parameter name that contains `beta` will be renamed internally to `bias`. Please use a different name to suppress this warning.\n",
      "A parameter name that contains `gamma` will be renamed internally to `weight`. Please use a different name to suppress this warning.\n",
      "A parameter name that contains `beta` will be renamed internally to `bias`. Please use a different name to suppress this warning.\n",
      "A parameter name that contains `gamma` will be renamed internally to `weight`. Please use a different name to suppress this warning.\n",
      "A parameter name that contains `beta` will be renamed internally to `bias`. Please use a different name to suppress this warning.\n",
      "A parameter name that contains `gamma` will be renamed internally to `weight`. Please use a different name to suppress this warning.\n",
      "A parameter name that contains `beta` will be renamed internally to `bias`. Please use a different name to suppress this warning.\n",
      "A parameter name that contains `gamma` will be renamed internally to `weight`. Please use a different name to suppress this warning.\n",
      "A parameter name that contains `beta` will be renamed internally to `bias`. Please use a different name to suppress this warning.\n",
      "A parameter name that contains `gamma` will be renamed internally to `weight`. Please use a different name to suppress this warning.\n",
      "A parameter name that contains `beta` will be renamed internally to `bias`. Please use a different name to suppress this warning.\n",
      "A parameter name that contains `gamma` will be renamed internally to `weight`. Please use a different name to suppress this warning.\n",
      "A parameter name that contains `beta` will be renamed internally to `bias`. Please use a different name to suppress this warning.\n",
      "A parameter name that contains `gamma` will be renamed internally to `weight`. Please use a different name to suppress this warning.\n",
      "A parameter name that contains `beta` will be renamed internally to `bias`. Please use a different name to suppress this warning.\n",
      "A parameter name that contains `gamma` will be renamed internally to `weight`. Please use a different name to suppress this warning.\n",
      "A parameter name that contains `beta` will be renamed internally to `bias`. Please use a different name to suppress this warning.\n",
      "A parameter name that contains `gamma` will be renamed internally to `weight`. Please use a different name to suppress this warning.\n",
      "A parameter name that contains `beta` will be renamed internally to `bias`. Please use a different name to suppress this warning.\n",
      "A parameter name that contains `gamma` will be renamed internally to `weight`. Please use a different name to suppress this warning.\n",
      "A parameter name that contains `beta` will be renamed internally to `bias`. Please use a different name to suppress this warning.\n",
      "A parameter name that contains `gamma` will be renamed internally to `weight`. Please use a different name to suppress this warning.\n",
      "A parameter name that contains `beta` will be renamed internally to `bias`. Please use a different name to suppress this warning.\n",
      "A parameter name that contains `gamma` will be renamed internally to `weight`. Please use a different name to suppress this warning.\n",
      "A parameter name that contains `beta` will be renamed internally to `bias`. Please use a different name to suppress this warning.\n",
      "A parameter name that contains `gamma` will be renamed internally to `weight`. Please use a different name to suppress this warning.\n",
      "Some weights of the model checkpoint at bert-base-cased were not used when initializing BertForMaskedLM: ['bert.pooler.dense.bias', 'bert.pooler.dense.weight', 'cls.seq_relationship.bias', 'cls.seq_relationship.weight']\n",
      "- This IS expected if you are initializing BertForMaskedLM from the checkpoint of a model trained on another task or with another architecture (e.g. initializing a BertForSequenceClassification model from a BertForPreTraining model).\n",
      "- This IS NOT expected if you are initializing BertForMaskedLM from the checkpoint of a model that you expect to be exactly identical (initializing a BertForSequenceClassification model from a BertForSequenceClassification model).\n",
      "c:\\Users\\Ayman\\AppData\\Local\\Programs\\Python\\Python310\\lib\\site-packages\\transformers\\tokenization_utils_base.py:1601: FutureWarning: `clean_up_tokenization_spaces` was not set. It will be set to `True` by default. This behavior will be depracted in transformers v4.45, and will be then set to `False` by default. For more details check this issue: https://github.com/huggingface/transformers/issues/31884\n",
      "  warnings.warn(\n",
      "Hardware accelerator e.g. GPU is available in the environment, but no `device` argument is passed to the `Pipeline` object. Model will be on CPU.\n"
     ]
    }
   ],
   "source": [
    "# Load the NER and Fill-Mask pipelines\n",
    "ner_pipeline = pipeline(\"token-classification\", model=\"eventdata-utd/conflibert-named-entity-recognition\")\n",
    "unmasker = pipeline('fill-mask', model='bert-base-cased')"
   ]
  },
  {
   "cell_type": "markdown",
   "metadata": {},
   "source": [
    "### ***Functions Documentation***\n",
    "\n",
    "#### Overview\n",
    "\n",
    "This document outlines three functions: `extract_entities`, `fill_missing`, and `fill_text_with_suggestions`. These functions are designed to work with Named Entity Recognition (NER) and text prediction tasks.\n",
    "\n",
    "---\n",
    "\n",
    "#### 1. `extract_entities(text)`\n",
    "\n",
    "This function extracts named entities from a given text using a Named Entity Recognition (NER) model.\n",
    "\n",
    "##### Parameters\n",
    "- **text** (str): The input text from which to extract entities.\n",
    "\n",
    "##### Returns\n",
    "- **list**: A list of dictionaries, each containing information about the identified entities, including:\n",
    "  - `entity` (str): The type of the entity (e.g., PERSON, ORGANIZATION).\n",
    "  - `word` (str): The actual word identified as the entity.\n",
    "  - `start` (int): The start index of the entity in the text.\n",
    "  - `end` (int): The end index of the entity in the text.\n",
    "  - `score` (float): The confidence score of the entity recognition (filtered to scores above 0.85).\n",
    "\n",
    "##### Example\n",
    "```python\n",
    "entities = extract_entities(\"Apple is looking at buying U.K. startup for $1 billion.\")"
   ]
  },
  {
   "cell_type": "code",
   "execution_count": 3,
   "metadata": {},
   "outputs": [],
   "source": [
    "# NER function\n",
    "def extract_entities(text):\n",
    "    ner_results = ner_pipeline(text)\n",
    "    entities = []\n",
    "    for entity in ner_results:\n",
    "        if entity['score'] > 0.85:  # Filter by confidence score\n",
    "            entities.append({\n",
    "                'entity': entity['entity'],\n",
    "                'word': entity['word'],\n",
    "                'start': entity['start'],\n",
    "                'end': entity['end'],\n",
    "                'score': entity['score']\n",
    "            })\n",
    "    return entities"
   ]
  },
  {
   "cell_type": "markdown",
   "metadata": {},
   "source": [
    "### Fill-Mask Function Documentation\n",
    "\n",
    "#### Overview\n",
    "The `fill_missing` function is designed to replace a specified word in a given text with a mask (e.g., `[MASK]`) and then generate predictions for the missing word using a language model.\n",
    "\n",
    "#### Function Signature\n",
    "```python\n",
    "def fill_missing(text: str) -> List[str]:\n"
   ]
  },
  {
   "cell_type": "code",
   "execution_count": 4,
   "metadata": {},
   "outputs": [],
   "source": [
    "# Fill-Mask function\n",
    "def fill_missing(text):\n",
    "    mask_text = text.replace(\"Manhattan\", \"[MASK]\")  # Example of masking a word\n",
    "    predictions = unmasker(mask_text)\n",
    "    return predictions[:3]  # Return top 3 suggestions"
   ]
  },
  {
   "cell_type": "markdown",
   "metadata": {},
   "source": [
    "### Fill Text with Suggestions Function Documentation\n",
    "\n",
    "#### Overview\n",
    "The `fill_text_with_suggestions` function replaces occurrences of a mask (e.g., `[MASK]`) in the original text with the top suggestions provided for each masked position.\n",
    "\n",
    "#### Function Signature\n",
    "```python\n",
    "def fill_text_with_suggestions(original_text: str, suggestions: List[List[Dict]]) -> str:\n"
   ]
  },
  {
   "cell_type": "code",
   "execution_count": 5,
   "metadata": {},
   "outputs": [],
   "source": [
    "# Function to fill the text with top suggestions\n",
    "def fill_text_with_suggestions(original_text, suggestions):\n",
    "    filled_text = original_text\n",
    "    for i, suggestion_group in enumerate(suggestions):\n",
    "        # Get the top suggestion for the current mask\n",
    "        top_suggestion = suggestion_group[0]['token_str']\n",
    "        # Replace the [MASK] with the top suggestion\n",
    "        filled_text = filled_text.replace(\"[MASK]\", top_suggestion, 1)  # Replace only the first occurrence\n",
    "    return filled_text"
   ]
  },
  {
   "cell_type": "markdown",
   "metadata": {},
   "source": [
    "### User Email Input or Example Selection\n",
    "\n",
    "#### Overview\n",
    "This code snippet prompts the user to choose between viewing an example email containing masked placeholders (`[MASK]`) or entering their own email text with placeholders.\n"
   ]
  },
  {
   "cell_type": "code",
   "execution_count": 6,
   "metadata": {},
   "outputs": [],
   "source": [
    "# Ask the user if they want to see an example or input their own email\n",
    "user_choice = input(\"Do you want to see an example email or input your own? (type 'example' or 'own'): \").strip().lower()\n",
    "\n",
    "if user_choice == 'example':\n",
    "    # Example text\n",
    "    text = \"\"\"\n",
    "    Hi John, please meet me at the [MASK] 10:00 AM Thursday. \n",
    "    The meeting will be at 123 in front of [MASK] second street. Let me know if you have any [MASK].\n",
    "    Best regards, Sarah\n",
    "    \"\"\"\n",
    "else:\n",
    "    # Input text from the user\n",
    "    text = input(\"Please enter your email text with [MASK] where you want to fill: \")"
   ]
  },
  {
   "cell_type": "markdown",
   "metadata": {},
   "source": [
    "### Suggestions Processing and Text Filling\n",
    "\n",
    "#### Overview\n",
    "This code snippet retrieves suggestions for masked words in a given text, prints each suggestion with its score, and then fills the text with the top suggestions."
   ]
  },
  {
   "cell_type": "code",
   "execution_count": 7,
   "metadata": {},
   "outputs": [
    {
     "name": "stdout",
     "output_type": "stream",
     "text": [
      "\n",
      "Suggestions for Mask 1:\n",
      "Token: address, Score: 0.16885749995708466\n",
      "Token: office, Score: 0.13908250629901886\n",
      "Token: nearest, Score: 0.05670227110385895\n",
      "Token: house, Score: 0.04021579399704933\n",
      "Token: library, Score: 0.03397786617279053\n",
      "\n",
      "Suggestions for Mask 2:\n",
      "Token: the, Score: 0.9514138102531433\n",
      "Token: your, Score: 0.009262710809707642\n",
      "Token: my, Score: 0.008731571026146412\n",
      "Token: our, Score: 0.008648613467812538\n",
      "Token: a, Score: 0.005733762867748737\n",
      "\n",
      "Suggestions for Mask 3:\n",
      "Token: questions, Score: 0.6247861981391907\n",
      "Token: problems, Score: 0.10022515058517456\n",
      "Token: ideas, Score: 0.036073002964258194\n",
      "Token: news, Score: 0.034569431096315384\n",
      "Token: plans, Score: 0.02737584337592125\n",
      "\n",
      "Original Text:\n",
      "\n",
      "    Hi John, please meet me at the [MASK] 10:00 AM Thursday. \n",
      "    The meeting will be at 123 in front of [MASK] second street. Let me know if you have any [MASK].\n",
      "    Best regards, Sarah\n",
      "    \n",
      "\n",
      "Filled Text:\n",
      "\n",
      "    Hi John, please meet me at the address 10:00 AM Thursday. \n",
      "    The meeting will be at 123 in front of the second street. Let me know if you have any questions.\n",
      "    Best regards, Sarah\n",
      "    \n"
     ]
    }
   ],
   "source": [
    "suggestions = fill_missing(text)\n",
    "\n",
    "# Loop through each suggestion and print the score and token_str\n",
    "for i, suggestion_group in enumerate(suggestions):\n",
    "    print(f\"\\nSuggestions for Mask {i+1}:\")\n",
    "    for suggestion in suggestion_group:\n",
    "        print(f\"Token: {suggestion['token_str']}, Score: {suggestion['score']}\")\n",
    "\n",
    "# Get the filled text\n",
    "filled_text = fill_text_with_suggestions(text, suggestions)\n",
    "\n",
    "# Print the original and filled text\n",
    "print(\"\\nOriginal Text:\")\n",
    "print(text)\n",
    "print(\"\\nFilled Text:\")\n",
    "print(filled_text)"
   ]
  },
  {
   "cell_type": "markdown",
   "metadata": {},
   "source": [
    "### Entity Extraction and Display\n",
    "\n",
    "#### Overview\n",
    "This code snippet extracts named entities from a given text and prints each entity along with its corresponding type.\n"
   ]
  },
  {
   "cell_type": "code",
   "execution_count": 8,
   "metadata": {},
   "outputs": [
    {
     "name": "stderr",
     "output_type": "stream",
     "text": [
      "Asking to truncate to max_length but no maximum length is provided and the model has no predefined maximum length. Default to no truncation.\n"
     ]
    },
    {
     "name": "stdout",
     "output_type": "stream",
     "text": [
      "Extracted Entities:\n",
      "hi -> B-Person\n",
      "john -> I-Person\n",
      "me -> B-Person\n",
      "10 -> B-Temporal\n",
      ": -> I-Temporal\n",
      "00 -> I-Temporal\n",
      "am -> I-Temporal\n",
      "thursday -> I-Temporal\n",
      "123 -> B-Location\n",
      "of -> I-Location\n",
      "[MASK] -> I-Location\n",
      "second -> I-Location\n",
      "street -> I-Location\n",
      "sarah -> B-Person\n"
     ]
    }
   ],
   "source": [
    "# Extract entities and print them\n",
    "entities = extract_entities(text)\n",
    "print(\"Extracted Entities:\")\n",
    "for entity in entities:\n",
    "    print(f\"{entity['word']} -> {entity['entity']}\")"
   ]
  },
  {
   "cell_type": "code",
   "execution_count": null,
   "metadata": {},
   "outputs": [],
   "source": []
  }
 ],
 "metadata": {
  "kernelspec": {
   "display_name": "Python 3",
   "language": "python",
   "name": "python3"
  },
  "language_info": {
   "codemirror_mode": {
    "name": "ipython",
    "version": 3
   },
   "file_extension": ".py",
   "mimetype": "text/x-python",
   "name": "python",
   "nbconvert_exporter": "python",
   "pygments_lexer": "ipython3",
   "version": "3.10.6"
  }
 },
 "nbformat": 4,
 "nbformat_minor": 2
}
